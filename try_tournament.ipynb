{
 "cells": [
  {
   "cell_type": "code",
   "execution_count": 6,
   "metadata": {
    "collapsed": true
   },
   "outputs": [
    {
     "name": "stdout",
     "output_type": "stream",
     "text": [
      "Tournament is starting!\n"
     ]
    }
   ],
   "source": [
    "\n",
    "from ScrimmageBot import ScrimmageBot, State\n",
    "import time\n",
    "\n",
    "\n",
    "def read_gridfromfile(filepath):\n",
    "    f = open('grids/' + filepath)\n",
    "    res = f.readlines()\n",
    "    f.close()\n",
    "    return res\n",
    "\n",
    "\n",
    "def create_bot(bot_col):\n",
    "    bot = ScrimmageBot(bot_col)\n",
    "    bot.loads_database('database.db')\n",
    "    return bot\n",
    "\n",
    "\n",
    "OG = create_bot('white')\n",
    "DT = create_bot('black')\n",
    "starting_state = State().grid_transpose(read_gridfromfile('starting_grid.txt'))\n",
    "print('Tournament is starting!')\n",
    "state = State(starting_state)\n",
    "\n",
    "json_data = {\n",
    "    'originalPanel': state.json_response(),\n",
    "    'newPanel': state.json_response(),\n",
    "}"
   ]
  },
  {
   "cell_type": "code",
   "execution_count": 7,
   "outputs": [
    {
     "name": "stdout",
     "output_type": "stream",
     "text": [
      "Move with score 32.0 play a move --->((7, 4), (6, 3))\n"
     ]
    }
   ],
   "source": [
    "new_state = OG.optimal_move_draft(json_data)"
   ],
   "metadata": {
    "collapsed": false,
    "pycharm": {
     "name": "#%%\n"
    }
   }
  },
  {
   "cell_type": "code",
   "execution_count": 9,
   "outputs": [],
   "source": [
    "# print(new_state.json_response())\n",
    "# print(new_state.transition_json())"
   ],
   "metadata": {
    "collapsed": false,
    "pycharm": {
     "name": "#%%\n"
    }
   }
  },
  {
   "cell_type": "code",
   "execution_count": 10,
   "outputs": [],
   "source": [
    "json_data = {\n",
    "        'originalPanel': state.json_response(),\n",
    "        'newPanel': new_state.json_response(),\n",
    "        'transition': new_state.transition_json()\n",
    "    }\n",
    "# json_data"
   ],
   "metadata": {
    "collapsed": false,
    "pycharm": {
     "name": "#%%\n"
    }
   }
  },
  {
   "cell_type": "code",
   "execution_count": 11,
   "outputs": [
    {
     "name": "stdout",
     "output_type": "stream",
     "text": [
      "Move with score -104.0 play a move --->((6, 4), (7, 3))\n",
      "\n",
      "starting_state\n",
      "[(7, 2), (7, 3), (7, 4)]\n",
      "[(6, 2), (6, 3), (6, 4)]\n",
      "()\n",
      "\n",
      "second state\n",
      "[(5, 2), (6, 2), (6, 4)]\n",
      "[(6, 3), (7, 2), (7, 3)]\n",
      "((7, 4), (6, 3))\n",
      "\n",
      "thirdstate\n",
      "[(6, 3), (7, 2), (8, 2)]\n",
      "[(5, 2), (6, 2), (7, 3)]\n",
      "((6, 4), (7, 3))\n"
     ]
    }
   ],
   "source": [
    "thirdstate = OG.optimal_move_draft(json_data)\n",
    "\n",
    "print('\\nstarting_state')\n",
    "print(state.my_pieces)\n",
    "print(state.opponent_pieces)\n",
    "print(state.opponent_last_move)\n",
    "print('\\nsecond state')\n",
    "print(new_state.my_pieces)\n",
    "print(new_state.opponent_pieces)\n",
    "print(new_state.opponent_last_move)\n",
    "\n",
    "print('\\nthirdstate')\n",
    "print(thirdstate.my_pieces)\n",
    "print(thirdstate.opponent_pieces)\n",
    "print(thirdstate.opponent_last_move)"
   ],
   "metadata": {
    "collapsed": false,
    "pycharm": {
     "name": "#%%\n"
    }
   }
  }
 ],
 "metadata": {
  "kernelspec": {
   "display_name": "Python 3",
   "language": "python",
   "name": "python3"
  },
  "language_info": {
   "codemirror_mode": {
    "name": "ipython",
    "version": 2
   },
   "file_extension": ".py",
   "mimetype": "text/x-python",
   "name": "python",
   "nbconvert_exporter": "python",
   "pygments_lexer": "ipython2",
   "version": "2.7.6"
  }
 },
 "nbformat": 4,
 "nbformat_minor": 0
}